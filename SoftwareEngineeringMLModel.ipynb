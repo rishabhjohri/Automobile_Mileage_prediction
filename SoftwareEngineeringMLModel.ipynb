{
  "nbformat": 4,
  "nbformat_minor": 0,
  "metadata": {
    "colab": {
      "name": "SoftwareEngineeringMLModel.ipynb",
      "provenance": [],
      "collapsed_sections": []
    },
    "kernelspec": {
      "name": "python3",
      "display_name": "Python 3"
    },
    "language_info": {
      "name": "python"
    }
  },
  "cells": [
    {
      "cell_type": "code",
      "execution_count": 36,
      "metadata": {
        "id": "h6bX3Qx5xsAQ"
      },
      "outputs": [],
      "source": [
        "import pandas as pd\n",
        "import numpy as np\n",
        "from sklearn import pipeline,preprocessing,impute,metrics,model_selection,ensemble\n",
        "from sklearn_pandas import DataFrameMapper"
      ]
    },
    {
      "cell_type": "code",
      "source": [
        "data=pd.read_csv('/content/mpg_data_example.csv')"
      ],
      "metadata": {
        "id": "o26gOoetx81D"
      },
      "execution_count": 37,
      "outputs": []
    },
    {
      "cell_type": "code",
      "source": [
        "mapper = DataFrameMapper([\n",
        "                        (['cylinders','displacement','weight','acceleration','model year'], preprocessing.StandardScaler()),\n",
        "                        (['horsepower'],impute.SimpleImputer()),\n",
        "                        (['origin'], preprocessing.OneHotEncoder(handle_unknown='ignore'))\n",
        "                        ])"
      ],
      "metadata": {
        "id": "m-k62jRIyLhg"
      },
      "execution_count": 38,
      "outputs": []
    },
    {
      "cell_type": "code",
      "source": [
        "pipeline_obj = pipeline.Pipeline([\n",
        "    ('mapper',mapper),\n",
        "    (\"model\", ensemble.RandomForestRegressor())\n",
        "])"
      ],
      "metadata": {
        "id": "6u6L3kIByQQa"
      },
      "execution_count": 39,
      "outputs": []
    },
    {
      "cell_type": "code",
      "source": [
        "X=['cylinders', 'displacement', 'horsepower', 'weight',\n",
        "       'acceleration', 'model year', 'origin']\n",
        "Y=['mpg']"
      ],
      "metadata": {
        "id": "vbufEU5MzFVj"
      },
      "execution_count": 40,
      "outputs": []
    },
    {
      "cell_type": "code",
      "source": [
        "pipeline_obj.fit(data[X],data[Y])"
      ],
      "metadata": {
        "colab": {
          "base_uri": "https://localhost:8080/"
        },
        "id": "aAOuB-EWzIWF",
        "outputId": "7a9a95c9-bbc7-47ba-91e3-7a75ce7dfe05"
      },
      "execution_count": 41,
      "outputs": [
        {
          "output_type": "stream",
          "name": "stderr",
          "text": [
            "/usr/local/lib/python3.7/dist-packages/sklearn/utils/deprecation.py:87: FutureWarning: Function get_feature_names is deprecated; get_feature_names is deprecated in 1.0 and will be removed in 1.2. Please use get_feature_names_out instead.\n",
            "  warnings.warn(msg, category=FutureWarning)\n",
            "/usr/local/lib/python3.7/dist-packages/sklearn/pipeline.py:394: DataConversionWarning: A column-vector y was passed when a 1d array was expected. Please change the shape of y to (n_samples,), for example using ravel().\n",
            "  self._final_estimator.fit(Xt, y, **fit_params_last_step)\n"
          ]
        },
        {
          "output_type": "execute_result",
          "data": {
            "text/plain": [
              "Pipeline(steps=[('mapper',\n",
              "                 DataFrameMapper(features=[(['cylinders', 'displacement',\n",
              "                                             'weight', 'acceleration',\n",
              "                                             'model year'],\n",
              "                                            StandardScaler()),\n",
              "                                           (['horsepower'], SimpleImputer()),\n",
              "                                           (['origin'],\n",
              "                                            OneHotEncoder(handle_unknown='ignore'))])),\n",
              "                ('model', RandomForestRegressor())])"
            ]
          },
          "metadata": {},
          "execution_count": 41
        }
      ]
    },
    {
      "cell_type": "code",
      "source": [
        "pipeline_obj.predict(data[X])"
      ],
      "metadata": {
        "colab": {
          "base_uri": "https://localhost:8080/"
        },
        "id": "tN1ue3kVzKn4",
        "outputId": "3dc79b63-69c8-4080-da37-5f987db76f5f"
      },
      "execution_count": 42,
      "outputs": [
        {
          "output_type": "stream",
          "name": "stderr",
          "text": [
            "/usr/local/lib/python3.7/dist-packages/sklearn/utils/deprecation.py:87: FutureWarning: Function get_feature_names is deprecated; get_feature_names is deprecated in 1.0 and will be removed in 1.2. Please use get_feature_names_out instead.\n",
            "  warnings.warn(msg, category=FutureWarning)\n"
          ]
        },
        {
          "output_type": "execute_result",
          "data": {
            "text/plain": [
              "array([17.131, 14.87 , 16.87 , 16.341, 16.915, 14.495, 13.975, 14.2  ,\n",
              "       13.63 , 14.63 , 14.99 , 14.55 , 14.95 , 14.717, 23.916, 21.579,\n",
              "       19.176, 20.935, 27.   , 26.5  , 24.471, 24.021, 24.85 , 25.111,\n",
              "       20.982, 10.54 , 10.83 , 11.42 ,  9.66 , 27.03 , 26.373, 24.761,\n",
              "       25.92 , 19.388, 16.89 , 17.437, 18.516, 18.144, 13.955, 13.75 ,\n",
              "       14.11 , 14.37 , 12.25 , 12.97 , 12.75 , 18.259, 22.285, 18.61 ,\n",
              "       18.405, 23.559, 26.88 , 29.8  , 29.165, 31.53 , 33.715, 27.31 ,\n",
              "       27.24 , 24.484, 25.66 , 23.64 , 20.605, 21.92 , 13.505, 13.755,\n",
              "       14.75 , 14.13 , 16.28 , 11.73 , 12.84 , 12.52 , 12.885, 20.271,\n",
              "       15.065, 13.72 , 13.6  , 14.15 , 18.911, 22.59 , 20.543, 26.43 ,\n",
              "       22.555, 26.66 , 22.806, 27.354, 26.655, 13.16 , 14.64 , 13.615,\n",
              "       14.03 , 14.57 , 11.97 , 13.14 , 13.285, 14.135, 12.54 , 12.14 ,\n",
              "       13.275, 18.721, 16.433, 18.61 , 18.38 , 22.17 , 26.585, 11.5  ,\n",
              "       12.12 , 12.89 , 12.195, 18.622, 21.5  , 21.58 , 23.379, 20.835,\n",
              "       20.465, 21.222, 25.62 , 14.53 , 14.93 , 29.04 , 25.01 , 21.055,\n",
              "       19.865, 15.278, 23.078, 20.206, 12.13 , 20.267, 20.552, 19.32 ,\n",
              "       15.981, 31.088, 25.172, 31.34 , 24.975, 16.225, 15.955, 17.788,\n",
              "       15.285, 13.36 , 13.84 , 13.68 , 14.185, 27.68 , 27.32 , 26.341,\n",
              "       31.92 , 31.635, 27.464, 25.22 , 25.773, 24.068, 25.398, 29.845,\n",
              "       19.269, 18.022, 15.817, 16.528, 15.35 , 14.845, 15.2  , 14.465,\n",
              "       17.182, 16.122, 15.845, 17.571, 20.486, 19.554, 14.751, 28.53 ,\n",
              "       23.479, 19.79 , 22.878, 24.142, 25.903, 23.978, 18.897, 28.784,\n",
              "       18.863, 23.527, 22.3  , 21.454, 24.094, 32.475, 26.58 , 25.449,\n",
              "       24.99 , 26.123, 27.47 , 16.605, 15.62 , 16.178, 14.77 , 21.442,\n",
              "       20.645, 22.764, 21.168, 29.722, 25.845, 28.959, 32.665, 19.458,\n",
              "       18.051, 18.373, 18.145, 29.097, 32.019, 28.215, 26.111, 20.427,\n",
              "       13.68 , 19.794, 19.426, 17.043, 15.405, 13.945, 13.866, 13.631,\n",
              "       31.279, 29.32 , 33.958, 25.635, 32.987, 17.086, 17.304, 15.695,\n",
              "       15.393, 17.95 , 20.131, 19.069, 18.286, 15.785, 15.63 , 15.643,\n",
              "       15.745, 29.577, 24.638, 26.814, 24.901, 30.305, 31.72 , 30.539,\n",
              "       29.688, 21.447, 22.738, 22.086, 39.161, 35.246, 34.768, 37.277,\n",
              "       35.62 , 19.669, 18.714, 19.348, 19.088, 20.185, 20.659, 24.921,\n",
              "       20.081, 19.635, 20.519, 20.638, 18.798, 18.437, 18.906, 18.035,\n",
              "       18.484, 17.026, 30.101, 25.911, 26.928, 30.018, 22.585, 23.214,\n",
              "       23.485, 24.517, 20.98 , 17.905, 21.876, 17.044, 31.822, 30.527,\n",
              "       21.31 , 21.452, 23.931, 20.273, 20.562, 17.466, 18.078, 17.709,\n",
              "       17.941, 16.464, 16.106, 19.65 , 18.021, 34.311, 34.029, 35.638,\n",
              "       27.966, 25.356, 21.636, 27.66 , 22.393, 34.484, 34.371, 33.77 ,\n",
              "       36.698, 27.806, 27.802, 25.939, 31.635, 39.368, 37.552, 33.295,\n",
              "       36.633, 27.789, 25.684, 25.079, 19.987, 34.683, 29.666, 31.452,\n",
              "       34.529, 33.06 , 43.906, 26.147, 41.571, 42.574, 42.007, 33.849,\n",
              "       30.192, 41.453, 38.444, 35.505, 32.699, 28.066, 28.697, 33.68 ,\n",
              "       24.017, 32.778, 28.863, 27.077, 26.368, 24.344, 30.91 , 38.076,\n",
              "       37.784, 35.966, 33.879, 36.527, 36.831, 34.009, 34.761, 34.405,\n",
              "       32.173, 34.03 , 34.134, 34.012, 32.676, 31.981, 31.269, 27.882,\n",
              "       28.666, 25.557, 24.818, 21.546, 24.423, 21.311, 19.778, 28.581,\n",
              "       27.737, 32.763, 30.268, 29.083, 27.016, 24.956, 24.479, 36.352,\n",
              "       36.467, 32.526, 37.775, 35.265, 36.043, 35.262, 33.933, 36.817,\n",
              "       33.784, 36.524, 25.591, 32.529, 26.948, 24.397, 30.821, 33.843,\n",
              "       26.309, 26.976, 42.033, 32.282, 28.441, 29.587])"
            ]
          },
          "metadata": {},
          "execution_count": 42
        }
      ]
    },
    {
      "cell_type": "code",
      "source": [
        "import joblib"
      ],
      "metadata": {
        "id": "IBYGVZUezP51"
      },
      "execution_count": 43,
      "outputs": []
    },
    {
      "cell_type": "code",
      "source": [
        "joblib.dump(pipeline_obj,'RFModelforMPG.pkl')"
      ],
      "metadata": {
        "colab": {
          "base_uri": "https://localhost:8080/"
        },
        "id": "2xcRz5InzfAo",
        "outputId": "8827d277-ba84-49b7-a2cf-ce066c3a70a5"
      },
      "execution_count": 44,
      "outputs": [
        {
          "output_type": "execute_result",
          "data": {
            "text/plain": [
              "['RFModelforMPG.pkl']"
            ]
          },
          "metadata": {},
          "execution_count": 44
        }
      ]
    },
    {
      "cell_type": "code",
      "source": [
        "modelReload=joblib.load('RFModelforMPG.pkl')"
      ],
      "metadata": {
        "id": "hYGPI2oBzni4"
      },
      "execution_count": 45,
      "outputs": []
    },
    {
      "cell_type": "code",
      "source": [
        "modelReload.predict(data[X])"
      ],
      "metadata": {
        "colab": {
          "base_uri": "https://localhost:8080/"
        },
        "id": "7eFXXFT2zqTP",
        "outputId": "8990bae7-b868-4057-8ad3-4da7c36babc2"
      },
      "execution_count": 46,
      "outputs": [
        {
          "output_type": "stream",
          "name": "stderr",
          "text": [
            "/usr/local/lib/python3.7/dist-packages/sklearn/utils/deprecation.py:87: FutureWarning: Function get_feature_names is deprecated; get_feature_names is deprecated in 1.0 and will be removed in 1.2. Please use get_feature_names_out instead.\n",
            "  warnings.warn(msg, category=FutureWarning)\n"
          ]
        },
        {
          "output_type": "execute_result",
          "data": {
            "text/plain": [
              "array([17.131, 14.87 , 16.87 , 16.341, 16.915, 14.495, 13.975, 14.2  ,\n",
              "       13.63 , 14.63 , 14.99 , 14.55 , 14.95 , 14.717, 23.916, 21.579,\n",
              "       19.176, 20.935, 27.   , 26.5  , 24.471, 24.021, 24.85 , 25.111,\n",
              "       20.982, 10.54 , 10.83 , 11.42 ,  9.66 , 27.03 , 26.373, 24.761,\n",
              "       25.92 , 19.388, 16.89 , 17.437, 18.516, 18.144, 13.955, 13.75 ,\n",
              "       14.11 , 14.37 , 12.25 , 12.97 , 12.75 , 18.259, 22.285, 18.61 ,\n",
              "       18.405, 23.559, 26.88 , 29.8  , 29.165, 31.53 , 33.715, 27.31 ,\n",
              "       27.24 , 24.484, 25.66 , 23.64 , 20.605, 21.92 , 13.505, 13.755,\n",
              "       14.75 , 14.13 , 16.28 , 11.73 , 12.84 , 12.52 , 12.885, 20.271,\n",
              "       15.065, 13.72 , 13.6  , 14.15 , 18.911, 22.59 , 20.543, 26.43 ,\n",
              "       22.555, 26.66 , 22.806, 27.354, 26.655, 13.16 , 14.64 , 13.615,\n",
              "       14.03 , 14.57 , 11.97 , 13.14 , 13.285, 14.135, 12.54 , 12.14 ,\n",
              "       13.275, 18.721, 16.433, 18.61 , 18.38 , 22.17 , 26.585, 11.5  ,\n",
              "       12.12 , 12.89 , 12.195, 18.622, 21.5  , 21.58 , 23.379, 20.835,\n",
              "       20.465, 21.222, 25.62 , 14.53 , 14.93 , 29.04 , 25.01 , 21.055,\n",
              "       19.865, 15.278, 23.078, 20.206, 12.13 , 20.267, 20.552, 19.32 ,\n",
              "       15.981, 31.088, 25.172, 31.34 , 24.975, 16.225, 15.955, 17.788,\n",
              "       15.285, 13.36 , 13.84 , 13.68 , 14.185, 27.68 , 27.32 , 26.341,\n",
              "       31.92 , 31.635, 27.464, 25.22 , 25.773, 24.068, 25.398, 29.845,\n",
              "       19.269, 18.022, 15.817, 16.528, 15.35 , 14.845, 15.2  , 14.465,\n",
              "       17.182, 16.122, 15.845, 17.571, 20.486, 19.554, 14.751, 28.53 ,\n",
              "       23.479, 19.79 , 22.878, 24.142, 25.903, 23.978, 18.897, 28.784,\n",
              "       18.863, 23.527, 22.3  , 21.454, 24.094, 32.475, 26.58 , 25.449,\n",
              "       24.99 , 26.123, 27.47 , 16.605, 15.62 , 16.178, 14.77 , 21.442,\n",
              "       20.645, 22.764, 21.168, 29.722, 25.845, 28.959, 32.665, 19.458,\n",
              "       18.051, 18.373, 18.145, 29.097, 32.019, 28.215, 26.111, 20.427,\n",
              "       13.68 , 19.794, 19.426, 17.043, 15.405, 13.945, 13.866, 13.631,\n",
              "       31.279, 29.32 , 33.958, 25.635, 32.987, 17.086, 17.304, 15.695,\n",
              "       15.393, 17.95 , 20.131, 19.069, 18.286, 15.785, 15.63 , 15.643,\n",
              "       15.745, 29.577, 24.638, 26.814, 24.901, 30.305, 31.72 , 30.539,\n",
              "       29.688, 21.447, 22.738, 22.086, 39.161, 35.246, 34.768, 37.277,\n",
              "       35.62 , 19.669, 18.714, 19.348, 19.088, 20.185, 20.659, 24.921,\n",
              "       20.081, 19.635, 20.519, 20.638, 18.798, 18.437, 18.906, 18.035,\n",
              "       18.484, 17.026, 30.101, 25.911, 26.928, 30.018, 22.585, 23.214,\n",
              "       23.485, 24.517, 20.98 , 17.905, 21.876, 17.044, 31.822, 30.527,\n",
              "       21.31 , 21.452, 23.931, 20.273, 20.562, 17.466, 18.078, 17.709,\n",
              "       17.941, 16.464, 16.106, 19.65 , 18.021, 34.311, 34.029, 35.638,\n",
              "       27.966, 25.356, 21.636, 27.66 , 22.393, 34.484, 34.371, 33.77 ,\n",
              "       36.698, 27.806, 27.802, 25.939, 31.635, 39.368, 37.552, 33.295,\n",
              "       36.633, 27.789, 25.684, 25.079, 19.987, 34.683, 29.666, 31.452,\n",
              "       34.529, 33.06 , 43.906, 26.147, 41.571, 42.574, 42.007, 33.849,\n",
              "       30.192, 41.453, 38.444, 35.505, 32.699, 28.066, 28.697, 33.68 ,\n",
              "       24.017, 32.778, 28.863, 27.077, 26.368, 24.344, 30.91 , 38.076,\n",
              "       37.784, 35.966, 33.879, 36.527, 36.831, 34.009, 34.761, 34.405,\n",
              "       32.173, 34.03 , 34.134, 34.012, 32.676, 31.981, 31.269, 27.882,\n",
              "       28.666, 25.557, 24.818, 21.546, 24.423, 21.311, 19.778, 28.581,\n",
              "       27.737, 32.763, 30.268, 29.083, 27.016, 24.956, 24.479, 36.352,\n",
              "       36.467, 32.526, 37.775, 35.265, 36.043, 35.262, 33.933, 36.817,\n",
              "       33.784, 36.524, 25.591, 32.529, 26.948, 24.397, 30.821, 33.843,\n",
              "       26.309, 26.976, 42.033, 32.282, 28.441, 29.587])"
            ]
          },
          "metadata": {},
          "execution_count": 46
        }
      ]
    },
    {
      "cell_type": "code",
      "source": [
        "temp={}\n",
        "temp['cylinders']=1\n",
        "temp['displacement']=2\n",
        "temp['horsepower']=3\n",
        "temp['weight']=4\n",
        "temp['acceleration']=5\n",
        "temp['model year']=6\n",
        "temp['origin']=1"
      ],
      "metadata": {
        "id": "rJM_fZhJzsQU"
      },
      "execution_count": 47,
      "outputs": []
    },
    {
      "cell_type": "code",
      "source": [
        "testDtaa=pd.DataFrame({'x':temp}).transpose()"
      ],
      "metadata": {
        "id": "OOgEwsklzxO4"
      },
      "execution_count": 48,
      "outputs": []
    },
    {
      "cell_type": "code",
      "source": [
        "testDtaa"
      ],
      "metadata": {
        "id": "VzKfPc8WzzKE",
        "outputId": "1c9a1cf9-1052-4cfd-b73c-d813842531e4",
        "colab": {
          "base_uri": "https://localhost:8080/",
          "height": 81
        }
      },
      "execution_count": 49,
      "outputs": [
        {
          "output_type": "execute_result",
          "data": {
            "text/plain": [
              "   acceleration  cylinders  displacement  horsepower  model year  origin  \\\n",
              "x             5          1             2           3           6       1   \n",
              "\n",
              "   weight  \n",
              "x       4  "
            ],
            "text/html": [
              "\n",
              "  <div id=\"df-ca5dd84b-aa43-41f2-911a-3a9bd816808d\">\n",
              "    <div class=\"colab-df-container\">\n",
              "      <div>\n",
              "<style scoped>\n",
              "    .dataframe tbody tr th:only-of-type {\n",
              "        vertical-align: middle;\n",
              "    }\n",
              "\n",
              "    .dataframe tbody tr th {\n",
              "        vertical-align: top;\n",
              "    }\n",
              "\n",
              "    .dataframe thead th {\n",
              "        text-align: right;\n",
              "    }\n",
              "</style>\n",
              "<table border=\"1\" class=\"dataframe\">\n",
              "  <thead>\n",
              "    <tr style=\"text-align: right;\">\n",
              "      <th></th>\n",
              "      <th>acceleration</th>\n",
              "      <th>cylinders</th>\n",
              "      <th>displacement</th>\n",
              "      <th>horsepower</th>\n",
              "      <th>model year</th>\n",
              "      <th>origin</th>\n",
              "      <th>weight</th>\n",
              "    </tr>\n",
              "  </thead>\n",
              "  <tbody>\n",
              "    <tr>\n",
              "      <th>x</th>\n",
              "      <td>5</td>\n",
              "      <td>1</td>\n",
              "      <td>2</td>\n",
              "      <td>3</td>\n",
              "      <td>6</td>\n",
              "      <td>1</td>\n",
              "      <td>4</td>\n",
              "    </tr>\n",
              "  </tbody>\n",
              "</table>\n",
              "</div>\n",
              "      <button class=\"colab-df-convert\" onclick=\"convertToInteractive('df-ca5dd84b-aa43-41f2-911a-3a9bd816808d')\"\n",
              "              title=\"Convert this dataframe to an interactive table.\"\n",
              "              style=\"display:none;\">\n",
              "        \n",
              "  <svg xmlns=\"http://www.w3.org/2000/svg\" height=\"24px\"viewBox=\"0 0 24 24\"\n",
              "       width=\"24px\">\n",
              "    <path d=\"M0 0h24v24H0V0z\" fill=\"none\"/>\n",
              "    <path d=\"M18.56 5.44l.94 2.06.94-2.06 2.06-.94-2.06-.94-.94-2.06-.94 2.06-2.06.94zm-11 1L8.5 8.5l.94-2.06 2.06-.94-2.06-.94L8.5 2.5l-.94 2.06-2.06.94zm10 10l.94 2.06.94-2.06 2.06-.94-2.06-.94-.94-2.06-.94 2.06-2.06.94z\"/><path d=\"M17.41 7.96l-1.37-1.37c-.4-.4-.92-.59-1.43-.59-.52 0-1.04.2-1.43.59L10.3 9.45l-7.72 7.72c-.78.78-.78 2.05 0 2.83L4 21.41c.39.39.9.59 1.41.59.51 0 1.02-.2 1.41-.59l7.78-7.78 2.81-2.81c.8-.78.8-2.07 0-2.86zM5.41 20L4 18.59l7.72-7.72 1.47 1.35L5.41 20z\"/>\n",
              "  </svg>\n",
              "      </button>\n",
              "      \n",
              "  <style>\n",
              "    .colab-df-container {\n",
              "      display:flex;\n",
              "      flex-wrap:wrap;\n",
              "      gap: 12px;\n",
              "    }\n",
              "\n",
              "    .colab-df-convert {\n",
              "      background-color: #E8F0FE;\n",
              "      border: none;\n",
              "      border-radius: 50%;\n",
              "      cursor: pointer;\n",
              "      display: none;\n",
              "      fill: #1967D2;\n",
              "      height: 32px;\n",
              "      padding: 0 0 0 0;\n",
              "      width: 32px;\n",
              "    }\n",
              "\n",
              "    .colab-df-convert:hover {\n",
              "      background-color: #E2EBFA;\n",
              "      box-shadow: 0px 1px 2px rgba(60, 64, 67, 0.3), 0px 1px 3px 1px rgba(60, 64, 67, 0.15);\n",
              "      fill: #174EA6;\n",
              "    }\n",
              "\n",
              "    [theme=dark] .colab-df-convert {\n",
              "      background-color: #3B4455;\n",
              "      fill: #D2E3FC;\n",
              "    }\n",
              "\n",
              "    [theme=dark] .colab-df-convert:hover {\n",
              "      background-color: #434B5C;\n",
              "      box-shadow: 0px 1px 3px 1px rgba(0, 0, 0, 0.15);\n",
              "      filter: drop-shadow(0px 1px 2px rgba(0, 0, 0, 0.3));\n",
              "      fill: #FFFFFF;\n",
              "    }\n",
              "  </style>\n",
              "\n",
              "      <script>\n",
              "        const buttonEl =\n",
              "          document.querySelector('#df-ca5dd84b-aa43-41f2-911a-3a9bd816808d button.colab-df-convert');\n",
              "        buttonEl.style.display =\n",
              "          google.colab.kernel.accessAllowed ? 'block' : 'none';\n",
              "\n",
              "        async function convertToInteractive(key) {\n",
              "          const element = document.querySelector('#df-ca5dd84b-aa43-41f2-911a-3a9bd816808d');\n",
              "          const dataTable =\n",
              "            await google.colab.kernel.invokeFunction('convertToInteractive',\n",
              "                                                     [key], {});\n",
              "          if (!dataTable) return;\n",
              "\n",
              "          const docLinkHtml = 'Like what you see? Visit the ' +\n",
              "            '<a target=\"_blank\" href=https://colab.research.google.com/notebooks/data_table.ipynb>data table notebook</a>'\n",
              "            + ' to learn more about interactive tables.';\n",
              "          element.innerHTML = '';\n",
              "          dataTable['output_type'] = 'display_data';\n",
              "          await google.colab.output.renderOutput(dataTable, element);\n",
              "          const docLink = document.createElement('div');\n",
              "          docLink.innerHTML = docLinkHtml;\n",
              "          element.appendChild(docLink);\n",
              "        }\n",
              "      </script>\n",
              "    </div>\n",
              "  </div>\n",
              "  "
            ]
          },
          "metadata": {},
          "execution_count": 49
        }
      ]
    },
    {
      "cell_type": "code",
      "source": [
        "modelReload.predict(testDtaa)[0]"
      ],
      "metadata": {
        "id": "qAX6ekd9z0sh",
        "outputId": "95ee52b6-77b6-4a98-b538-cb0cbe3502a1",
        "colab": {
          "base_uri": "https://localhost:8080/"
        }
      },
      "execution_count": 50,
      "outputs": [
        {
          "output_type": "stream",
          "name": "stderr",
          "text": [
            "/usr/local/lib/python3.7/dist-packages/sklearn/utils/deprecation.py:87: FutureWarning: Function get_feature_names is deprecated; get_feature_names is deprecated in 1.0 and will be removed in 1.2. Please use get_feature_names_out instead.\n",
            "  warnings.warn(msg, category=FutureWarning)\n"
          ]
        },
        {
          "output_type": "execute_result",
          "data": {
            "text/plain": [
              "28.32"
            ]
          },
          "metadata": {},
          "execution_count": 50
        }
      ]
    },
    {
      "cell_type": "code",
      "source": [
        ""
      ],
      "metadata": {
        "id": "BPw5ljgOz3iq"
      },
      "execution_count": null,
      "outputs": []
    }
  ]
}