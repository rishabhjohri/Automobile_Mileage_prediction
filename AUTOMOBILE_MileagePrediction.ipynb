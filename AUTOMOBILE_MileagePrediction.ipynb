{
  "nbformat": 4,
  "nbformat_minor": 0,
  "metadata": {
    "colab": {
      "name": "AUTOMOBILE_MileagePrediction.ipynb",
      "provenance": [],
      "collapsed_sections": []
    },
    "kernelspec": {
      "name": "python3",
      "display_name": "Python 3"
    },
    "language_info": {
      "name": "python"
    }
  },
  "cells": [
    {
      "cell_type": "code",
      "source": [
        "pip install scikit-learn==0.20"
      ],
      "metadata": {
        "colab": {
          "base_uri": "https://localhost:8080/"
        },
        "id": "q_aNCbjNM0Ma",
        "outputId": "32d16165-4764-4d95-e89c-bdbc2fd984a7"
      },
      "execution_count": 15,
      "outputs": [
        {
          "output_type": "stream",
          "name": "stdout",
          "text": [
            "Looking in indexes: https://pypi.org/simple, https://us-python.pkg.dev/colab-wheels/public/simple/\n",
            "Requirement already satisfied: scikit-learn==0.20 in /usr/local/lib/python3.7/dist-packages (0.20.0)\n",
            "Requirement already satisfied: numpy>=1.8.2 in /usr/local/lib/python3.7/dist-packages (from scikit-learn==0.20) (1.21.6)\n",
            "Requirement already satisfied: scipy>=0.13.3 in /usr/local/lib/python3.7/dist-packages (from scikit-learn==0.20) (1.7.3)\n"
          ]
        }
      ]
    },
    {
      "cell_type": "code",
      "source": [
        "import pandas as pd\n",
        "import numpy as np\n",
        "from sklearn import pipeline,preprocessing,metrics,model_selection,ensemble\n",
        "from sklearn_pandas import DataFrameMapper"
      ],
      "metadata": {
        "id": "5V5iE7AlMvsG"
      },
      "execution_count": 16,
      "outputs": []
    },
    {
      "cell_type": "code",
      "source": [
        "data=pd.read_csv('/content/mpg_data_example.csv')"
      ],
      "metadata": {
        "id": "eP0DniT1NEV6"
      },
      "execution_count": 17,
      "outputs": []
    },
    {
      "cell_type": "code",
      "source": [
        "data.head()"
      ],
      "metadata": {
        "colab": {
          "base_uri": "https://localhost:8080/",
          "height": 250
        },
        "id": "ckWfgCcmNMKK",
        "outputId": "c6328c3f-9ea5-4859-8755-c1abbb704218"
      },
      "execution_count": 18,
      "outputs": [
        {
          "output_type": "execute_result",
          "data": {
            "text/plain": [
              "    mpg  cylinders  displacement  horsepower  weight  acceleration  \\\n",
              "0  18.0          8         307.0       130.0    3504          12.0   \n",
              "1  15.0          8         350.0       165.0    3693          11.5   \n",
              "2  18.0          8         318.0       150.0    3436          11.0   \n",
              "3  16.0          8         304.0       150.0    3433          12.0   \n",
              "4  17.0          8         302.0       140.0    3449          10.5   \n",
              "\n",
              "   model year  origin                   car name  \n",
              "0          70       1  chevrolet chevelle malibu  \n",
              "1          70       1          buick skylark 320  \n",
              "2          70       1         plymouth satellite  \n",
              "3          70       1              amc rebel sst  \n",
              "4          70       1                ford torino  "
            ],
            "text/html": [
              "\n",
              "  <div id=\"df-e435632d-d69f-461f-802d-951a11f59350\">\n",
              "    <div class=\"colab-df-container\">\n",
              "      <div>\n",
              "<style scoped>\n",
              "    .dataframe tbody tr th:only-of-type {\n",
              "        vertical-align: middle;\n",
              "    }\n",
              "\n",
              "    .dataframe tbody tr th {\n",
              "        vertical-align: top;\n",
              "    }\n",
              "\n",
              "    .dataframe thead th {\n",
              "        text-align: right;\n",
              "    }\n",
              "</style>\n",
              "<table border=\"1\" class=\"dataframe\">\n",
              "  <thead>\n",
              "    <tr style=\"text-align: right;\">\n",
              "      <th></th>\n",
              "      <th>mpg</th>\n",
              "      <th>cylinders</th>\n",
              "      <th>displacement</th>\n",
              "      <th>horsepower</th>\n",
              "      <th>weight</th>\n",
              "      <th>acceleration</th>\n",
              "      <th>model year</th>\n",
              "      <th>origin</th>\n",
              "      <th>car name</th>\n",
              "    </tr>\n",
              "  </thead>\n",
              "  <tbody>\n",
              "    <tr>\n",
              "      <th>0</th>\n",
              "      <td>18.0</td>\n",
              "      <td>8</td>\n",
              "      <td>307.0</td>\n",
              "      <td>130.0</td>\n",
              "      <td>3504</td>\n",
              "      <td>12.0</td>\n",
              "      <td>70</td>\n",
              "      <td>1</td>\n",
              "      <td>chevrolet chevelle malibu</td>\n",
              "    </tr>\n",
              "    <tr>\n",
              "      <th>1</th>\n",
              "      <td>15.0</td>\n",
              "      <td>8</td>\n",
              "      <td>350.0</td>\n",
              "      <td>165.0</td>\n",
              "      <td>3693</td>\n",
              "      <td>11.5</td>\n",
              "      <td>70</td>\n",
              "      <td>1</td>\n",
              "      <td>buick skylark 320</td>\n",
              "    </tr>\n",
              "    <tr>\n",
              "      <th>2</th>\n",
              "      <td>18.0</td>\n",
              "      <td>8</td>\n",
              "      <td>318.0</td>\n",
              "      <td>150.0</td>\n",
              "      <td>3436</td>\n",
              "      <td>11.0</td>\n",
              "      <td>70</td>\n",
              "      <td>1</td>\n",
              "      <td>plymouth satellite</td>\n",
              "    </tr>\n",
              "    <tr>\n",
              "      <th>3</th>\n",
              "      <td>16.0</td>\n",
              "      <td>8</td>\n",
              "      <td>304.0</td>\n",
              "      <td>150.0</td>\n",
              "      <td>3433</td>\n",
              "      <td>12.0</td>\n",
              "      <td>70</td>\n",
              "      <td>1</td>\n",
              "      <td>amc rebel sst</td>\n",
              "    </tr>\n",
              "    <tr>\n",
              "      <th>4</th>\n",
              "      <td>17.0</td>\n",
              "      <td>8</td>\n",
              "      <td>302.0</td>\n",
              "      <td>140.0</td>\n",
              "      <td>3449</td>\n",
              "      <td>10.5</td>\n",
              "      <td>70</td>\n",
              "      <td>1</td>\n",
              "      <td>ford torino</td>\n",
              "    </tr>\n",
              "  </tbody>\n",
              "</table>\n",
              "</div>\n",
              "      <button class=\"colab-df-convert\" onclick=\"convertToInteractive('df-e435632d-d69f-461f-802d-951a11f59350')\"\n",
              "              title=\"Convert this dataframe to an interactive table.\"\n",
              "              style=\"display:none;\">\n",
              "        \n",
              "  <svg xmlns=\"http://www.w3.org/2000/svg\" height=\"24px\"viewBox=\"0 0 24 24\"\n",
              "       width=\"24px\">\n",
              "    <path d=\"M0 0h24v24H0V0z\" fill=\"none\"/>\n",
              "    <path d=\"M18.56 5.44l.94 2.06.94-2.06 2.06-.94-2.06-.94-.94-2.06-.94 2.06-2.06.94zm-11 1L8.5 8.5l.94-2.06 2.06-.94-2.06-.94L8.5 2.5l-.94 2.06-2.06.94zm10 10l.94 2.06.94-2.06 2.06-.94-2.06-.94-.94-2.06-.94 2.06-2.06.94z\"/><path d=\"M17.41 7.96l-1.37-1.37c-.4-.4-.92-.59-1.43-.59-.52 0-1.04.2-1.43.59L10.3 9.45l-7.72 7.72c-.78.78-.78 2.05 0 2.83L4 21.41c.39.39.9.59 1.41.59.51 0 1.02-.2 1.41-.59l7.78-7.78 2.81-2.81c.8-.78.8-2.07 0-2.86zM5.41 20L4 18.59l7.72-7.72 1.47 1.35L5.41 20z\"/>\n",
              "  </svg>\n",
              "      </button>\n",
              "      \n",
              "  <style>\n",
              "    .colab-df-container {\n",
              "      display:flex;\n",
              "      flex-wrap:wrap;\n",
              "      gap: 12px;\n",
              "    }\n",
              "\n",
              "    .colab-df-convert {\n",
              "      background-color: #E8F0FE;\n",
              "      border: none;\n",
              "      border-radius: 50%;\n",
              "      cursor: pointer;\n",
              "      display: none;\n",
              "      fill: #1967D2;\n",
              "      height: 32px;\n",
              "      padding: 0 0 0 0;\n",
              "      width: 32px;\n",
              "    }\n",
              "\n",
              "    .colab-df-convert:hover {\n",
              "      background-color: #E2EBFA;\n",
              "      box-shadow: 0px 1px 2px rgba(60, 64, 67, 0.3), 0px 1px 3px 1px rgba(60, 64, 67, 0.15);\n",
              "      fill: #174EA6;\n",
              "    }\n",
              "\n",
              "    [theme=dark] .colab-df-convert {\n",
              "      background-color: #3B4455;\n",
              "      fill: #D2E3FC;\n",
              "    }\n",
              "\n",
              "    [theme=dark] .colab-df-convert:hover {\n",
              "      background-color: #434B5C;\n",
              "      box-shadow: 0px 1px 3px 1px rgba(0, 0, 0, 0.15);\n",
              "      filter: drop-shadow(0px 1px 2px rgba(0, 0, 0, 0.3));\n",
              "      fill: #FFFFFF;\n",
              "    }\n",
              "  </style>\n",
              "\n",
              "      <script>\n",
              "        const buttonEl =\n",
              "          document.querySelector('#df-e435632d-d69f-461f-802d-951a11f59350 button.colab-df-convert');\n",
              "        buttonEl.style.display =\n",
              "          google.colab.kernel.accessAllowed ? 'block' : 'none';\n",
              "\n",
              "        async function convertToInteractive(key) {\n",
              "          const element = document.querySelector('#df-e435632d-d69f-461f-802d-951a11f59350');\n",
              "          const dataTable =\n",
              "            await google.colab.kernel.invokeFunction('convertToInteractive',\n",
              "                                                     [key], {});\n",
              "          if (!dataTable) return;\n",
              "\n",
              "          const docLinkHtml = 'Like what you see? Visit the ' +\n",
              "            '<a target=\"_blank\" href=https://colab.research.google.com/notebooks/data_table.ipynb>data table notebook</a>'\n",
              "            + ' to learn more about interactive tables.';\n",
              "          element.innerHTML = '';\n",
              "          dataTable['output_type'] = 'display_data';\n",
              "          await google.colab.output.renderOutput(dataTable, element);\n",
              "          const docLink = document.createElement('div');\n",
              "          docLink.innerHTML = docLinkHtml;\n",
              "          element.appendChild(docLink);\n",
              "        }\n",
              "      </script>\n",
              "    </div>\n",
              "  </div>\n",
              "  "
            ]
          },
          "metadata": {},
          "execution_count": 18
        }
      ]
    },
    {
      "cell_type": "code",
      "source": [
        "data.isnull().sum()"
      ],
      "metadata": {
        "colab": {
          "base_uri": "https://localhost:8080/"
        },
        "id": "YxugywjhNO-F",
        "outputId": "876baab9-9db3-4e9f-d05c-4bc31fa4f9ee"
      },
      "execution_count": 19,
      "outputs": [
        {
          "output_type": "execute_result",
          "data": {
            "text/plain": [
              "mpg             0\n",
              "cylinders       0\n",
              "displacement    0\n",
              "horsepower      6\n",
              "weight          0\n",
              "acceleration    0\n",
              "model year      0\n",
              "origin          0\n",
              "car name        0\n",
              "dtype: int64"
            ]
          },
          "metadata": {},
          "execution_count": 19
        }
      ]
    },
    {
      "cell_type": "code",
      "source": [
        "mapper = DataFrameMapper([\n",
        "                        (['cylinders','displacement','weight','acceleration','model year'], preprocessing.StandardScaler()),\n",
        "                        (['horsepower'],preprocessing.Imputer()),\n",
        "                        (['origin'], preprocessing.OneHotEncoder())\n",
        "                        ])\n"
      ],
      "metadata": {
        "colab": {
          "base_uri": "https://localhost:8080/"
        },
        "id": "K_uimL8CNRbQ",
        "outputId": "07ab14f5-c420-43c8-d79d-555c158c410b"
      },
      "execution_count": 20,
      "outputs": [
        {
          "output_type": "stream",
          "name": "stderr",
          "text": [
            "/usr/local/lib/python3.7/dist-packages/sklearn/utils/deprecation.py:58: DeprecationWarning: Class Imputer is deprecated; Imputer was deprecated in version 0.20 and will be removed in 0.22. Import impute.SimpleImputer from sklearn instead.\n",
            "  warnings.warn(msg, category=DeprecationWarning)\n"
          ]
        }
      ]
    },
    {
      "cell_type": "code",
      "source": [
        "pipeline_obj = pipeline.Pipeline([\n",
        "    ('mapper',mapper),\n",
        "    (\"model\", ensemble.RandomForestRegressor())\n",
        "])"
      ],
      "metadata": {
        "id": "etwkna4rNV1J"
      },
      "execution_count": 21,
      "outputs": []
    },
    {
      "cell_type": "code",
      "source": [
        "data.columns"
      ],
      "metadata": {
        "colab": {
          "base_uri": "https://localhost:8080/"
        },
        "id": "duaq-WK8NZla",
        "outputId": "400cb0e7-58bc-4c4a-b0f8-08c836f4ced2"
      },
      "execution_count": 22,
      "outputs": [
        {
          "output_type": "execute_result",
          "data": {
            "text/plain": [
              "Index(['mpg', 'cylinders', 'displacement', 'horsepower', 'weight',\n",
              "       'acceleration', 'model year', 'origin', 'car name'],\n",
              "      dtype='object')"
            ]
          },
          "metadata": {},
          "execution_count": 22
        }
      ]
    },
    {
      "cell_type": "code",
      "source": [
        "X=['cylinders', 'displacement', 'horsepower', 'weight',\n",
        "       'acceleration', 'model year', 'origin']\n",
        "Y=['mpg']"
      ],
      "metadata": {
        "id": "iqExf6WpNb-V"
      },
      "execution_count": 23,
      "outputs": []
    },
    {
      "cell_type": "code",
      "source": [
        "pipeline_obj.fit(data[X],data[Y])"
      ],
      "metadata": {
        "colab": {
          "base_uri": "https://localhost:8080/"
        },
        "id": "nCNkXwwSNfY_",
        "outputId": "05d551bd-646c-4ab2-b5f5-3c293317ff0d"
      },
      "execution_count": 24,
      "outputs": [
        {
          "output_type": "stream",
          "name": "stderr",
          "text": [
            "/usr/local/lib/python3.7/dist-packages/sklearn/preprocessing/_encoders.py:346: DeprecationWarning: `np.int` is a deprecated alias for the builtin `int`. To silence this warning, use `int` by itself. Doing this will not modify any behavior and is safe. When replacing `np.int`, you may wish to use e.g. `np.int64` or `np.int32` to specify the precision. If you wish to review your current use, check the release note link for additional information.\n",
            "Deprecated in NumPy 1.20; for more details and guidance: https://numpy.org/devdocs/release/1.20.0-notes.html#deprecations\n",
            "  X = check_array(X, dtype=np.int)\n",
            "/usr/local/lib/python3.7/dist-packages/sklearn/preprocessing/_encoders.py:363: FutureWarning: The handling of integer data will change in version 0.22. Currently, the categories are determined based on the range [0, max(values)], while in the future they will be determined based on the unique values.\n",
            "If you want the future behaviour and silence this warning, you can specify \"categories='auto'\".\n",
            "In case you used a LabelEncoder before this OneHotEncoder to convert the categories to integers, then you can now use the OneHotEncoder directly.\n",
            "  warnings.warn(msg, FutureWarning)\n",
            "/usr/local/lib/python3.7/dist-packages/sklearn/preprocessing/_encoders.py:422: DeprecationWarning: `np.int` is a deprecated alias for the builtin `int`. To silence this warning, use `int` by itself. Doing this will not modify any behavior and is safe. When replacing `np.int`, you may wish to use e.g. `np.int64` or `np.int32` to specify the precision. If you wish to review your current use, check the release note link for additional information.\n",
            "Deprecated in NumPy 1.20; for more details and guidance: https://numpy.org/devdocs/release/1.20.0-notes.html#deprecations\n",
            "  X = check_array(X, dtype=np.int)\n",
            "/usr/local/lib/python3.7/dist-packages/sklearn/ensemble/forest.py:248: FutureWarning: The default value of n_estimators will change from 10 in version 0.20 to 100 in 0.22.\n",
            "  \"10 in version 0.20 to 100 in 0.22.\", FutureWarning)\n",
            "/usr/local/lib/python3.7/dist-packages/sklearn/pipeline.py:267: DataConversionWarning: A column-vector y was passed when a 1d array was expected. Please change the shape of y to (n_samples,), for example using ravel().\n",
            "  self._final_estimator.fit(Xt, y, **fit_params)\n"
          ]
        },
        {
          "output_type": "execute_result",
          "data": {
            "text/plain": [
              "Pipeline(memory=None,\n",
              "     steps=[('mapper', DataFrameMapper(default=False, df_out=False,\n",
              "        features=[(['cylinders', 'displacement', 'weight', 'acceleration', 'model year'], StandardScaler(copy=True, with_mean=True, with_std=True)), (['horsepower'], Imputer(axis=0, copy=True, missing_values='NaN', strategy='mean', verbo...ators=10, n_jobs=None,\n",
              "           oob_score=False, random_state=None, verbose=0, warm_start=False))])"
            ]
          },
          "metadata": {},
          "execution_count": 24
        }
      ]
    },
    {
      "cell_type": "code",
      "source": [
        "pipeline_obj.predict(data[X])"
      ],
      "metadata": {
        "colab": {
          "base_uri": "https://localhost:8080/"
        },
        "id": "1mM9m8rnQitN",
        "outputId": "5516efa0-e1b1-43f9-adb6-93b37a2398dd"
      },
      "execution_count": 27,
      "outputs": [
        {
          "output_type": "stream",
          "name": "stderr",
          "text": [
            "/usr/local/lib/python3.7/dist-packages/sklearn/preprocessing/_encoders.py:505: DeprecationWarning: `np.int` is a deprecated alias for the builtin `int`. To silence this warning, use `int` by itself. Doing this will not modify any behavior and is safe. When replacing `np.int`, you may wish to use e.g. `np.int64` or `np.int32` to specify the precision. If you wish to review your current use, check the release note link for additional information.\n",
            "Deprecated in NumPy 1.20; for more details and guidance: https://numpy.org/devdocs/release/1.20.0-notes.html#deprecations\n",
            "  X = check_array(X, dtype=np.int)\n",
            "/usr/local/lib/python3.7/dist-packages/sklearn/ensemble/base.py:158: DeprecationWarning: `np.int` is a deprecated alias for the builtin `int`. To silence this warning, use `int` by itself. Doing this will not modify any behavior and is safe. When replacing `np.int`, you may wish to use e.g. `np.int64` or `np.int32` to specify the precision. If you wish to review your current use, check the release note link for additional information.\n",
            "Deprecated in NumPy 1.20; for more details and guidance: https://numpy.org/devdocs/release/1.20.0-notes.html#deprecations\n",
            "  dtype=np.int)\n"
          ]
        },
        {
          "output_type": "execute_result",
          "data": {
            "text/plain": [
              "array([18.87, 14.8 , 16.8 , 16.  , 16.4 , 14.  , 13.8 , 14.  , 13.2 ,\n",
              "       14.4 , 15.  , 14.3 , 15.  , 15.1 , 23.7 , 21.1 , 19.1 , 21.4 ,\n",
              "       27.  , 26.8 , 23.9 , 24.6 , 24.5 , 25.3 , 20.72, 11.1 , 11.  ,\n",
              "       11.1 ,  9.5 , 27.  , 25.9 , 24.4 , 25.5 , 18.8 , 16.8 , 17.4 ,\n",
              "       18.5 , 18.5 , 14.  , 13.3 , 14.3 , 14.  , 12.1 , 12.9 , 12.6 ,\n",
              "       18.  , 22.5 , 19.  , 18.2 , 22.65, 27.35, 28.3 , 28.5 , 31.3 ,\n",
              "       33.7 , 27.5 , 26.7 , 23.4 , 25.8 , 25.71, 20.1 , 21.8 , 13.7 ,\n",
              "       13.3 , 14.3 , 14.2 , 14.6 , 12.  , 12.7 , 12.6 , 13.1 , 20.12,\n",
              "       14.4 , 13.4 , 13.4 , 14.1 , 19.61, 23.1 , 20.6 , 25.8 , 21.9 ,\n",
              "       25.9 , 22.79, 27.9 , 26.2 , 12.9 , 14.  , 13.6 , 14.62, 14.7 ,\n",
              "       12.  , 13.2 , 12.7 , 13.8 , 13.1 , 12.6 , 13.6 , 18.2 , 16.9 ,\n",
              "       18.2 , 17.8 , 22.3 , 26.6 , 11.7 , 12.1 , 12.4 , 12.5 , 18.4 ,\n",
              "       21.3 , 22.  , 23.9 , 20.7 , 20.42, 21.3 , 26.  , 14.5 , 15.4 ,\n",
              "       28.7 , 25.7 , 22.15, 20.82, 15.6 , 22.55, 20.76, 12.4 , 19.8 ,\n",
              "       20.53, 18.9 , 15.4 , 31.  , 25.1 , 31.7 , 24.4 , 15.7 , 15.8 ,\n",
              "       17.4 , 15.8 , 13.6 , 14.1 , 14.1 , 14.6 , 28.2 , 28.7 , 25.72,\n",
              "       31.1 , 31.4 , 26.2 , 24.9 , 25.5 , 23.9 , 25.4 , 29.9 , 19.75,\n",
              "       17.9 , 16.59, 16.15, 15.75, 14.8 , 15.  , 14.5 , 17.2 , 16.25,\n",
              "       15.95, 18.  , 20.4 , 18.95, 15.77, 28.8 , 23.7 , 19.5 , 23.8 ,\n",
              "       24.25, 26.1 , 23.9 , 18.9 , 29.2 , 19.29, 23.3 , 22.  , 21.26,\n",
              "       23.95, 31.7 , 27.2 , 25.3 , 25.45, 26.7 , 27.2 , 16.5 , 15.4 ,\n",
              "       17.47, 14.95, 20.9 , 20.9 , 22.05, 20.08, 30.41, 27.31, 29.  ,\n",
              "       31.7 , 19.45, 18.29, 18.2 , 18.7 , 29.1 , 32.1 , 28.1 , 26.65,\n",
              "       20.11, 13.55, 19.8 , 19.93, 16.9 , 15.25, 13.5 , 14.12, 13.55,\n",
              "       31.38, 29.2 , 34.91, 26.31, 33.21, 16.57, 17.4 , 15.9 , 15.1 ,\n",
              "       17.65, 20.  , 19.16, 18.05, 15.85, 15.9 , 15.84, 15.75, 29.75,\n",
              "       24.15, 27.9 , 25.3 , 30.86, 32.6 , 30.76, 29.4 , 21.8 , 22.1 ,\n",
              "       21.3 , 40.63, 34.78, 34.81, 37.26, 35.27, 18.95, 19.  , 19.93,\n",
              "       19.03, 19.95, 20.4 , 25.06, 20.15, 19.54, 20.07, 20.18, 18.9 ,\n",
              "       18.45, 18.88, 17.85, 20.3 , 16.8 , 29.9 , 26.35, 26.26, 31.47,\n",
              "       23.54, 23.18, 23.72, 24.02, 20.69, 18.28, 21.24, 17.28, 31.73,\n",
              "       29.4 , 21.28, 22.7 , 23.53, 20.16, 20.27, 17.16, 17.92, 17.58,\n",
              "       17.96, 16.58, 15.89, 19.39, 17.89, 34.35, 35.25, 34.49, 28.13,\n",
              "       24.13, 21.1 , 27.58, 22.61, 35.04, 35.07, 33.77, 37.91, 28.49,\n",
              "       28.65, 26.86, 31.12, 38.08, 37.72, 33.52, 37.57, 27.6 , 25.33,\n",
              "       26.18, 19.83, 33.15, 29.68, 31.92, 34.25, 32.24, 40.96, 27.72,\n",
              "       38.68, 43.45, 42.2 , 33.32, 29.25, 40.98, 39.13, 34.55, 32.79,\n",
              "       25.7 , 27.16, 33.22, 24.88, 32.5 , 29.88, 26.84, 26.96, 23.96,\n",
              "       33.35, 37.48, 37.63, 34.96, 33.23, 37.56, 37.53, 34.19, 34.02,\n",
              "       35.39, 31.77, 33.74, 35.37, 33.43, 32.43, 31.53, 31.19, 27.1 ,\n",
              "       29.32, 25.24, 25.19, 22.02, 25.52, 21.16, 21.82, 29.04, 27.06,\n",
              "       33.29, 29.8 , 30.2 , 27.  , 24.16, 23.11, 36.62, 36.7 , 32.31,\n",
              "       38.04, 36.4 , 35.47, 35.01, 34.99, 36.41, 33.14, 36.52, 24.24,\n",
              "       30.37, 27.08, 24.19, 29.28, 34.55, 25.53, 27.28, 41.27, 32.35,\n",
              "       28.19, 30.6 ])"
            ]
          },
          "metadata": {},
          "execution_count": 27
        }
      ]
    },
    {
      "cell_type": "code",
      "source": [
        "from sklearn.externals import joblib"
      ],
      "metadata": {
        "id": "vtmyYtIdQ0FQ"
      },
      "execution_count": 28,
      "outputs": []
    },
    {
      "cell_type": "code",
      "source": [
        "joblib.dump(pipeline_obj,'RFModelforMPG.pkl')"
      ],
      "metadata": {
        "colab": {
          "base_uri": "https://localhost:8080/"
        },
        "id": "oFdW_gsqQ6rS",
        "outputId": "5164e7c5-d608-42d4-9a5c-09af31154f52"
      },
      "execution_count": 29,
      "outputs": [
        {
          "output_type": "stream",
          "name": "stderr",
          "text": [
            "/usr/local/lib/python3.7/dist-packages/sklearn/externals/joblib/numpy_pickle.py:104: DeprecationWarning: tostring() is deprecated. Use tobytes() instead.\n",
            "  pickler.file_handle.write(chunk.tostring('C'))\n",
            "/usr/local/lib/python3.7/dist-packages/sklearn/externals/joblib/numpy_pickle.py:104: DeprecationWarning: tostring() is deprecated. Use tobytes() instead.\n",
            "  pickler.file_handle.write(chunk.tostring('C'))\n",
            "/usr/local/lib/python3.7/dist-packages/sklearn/externals/joblib/numpy_pickle.py:104: DeprecationWarning: tostring() is deprecated. Use tobytes() instead.\n",
            "  pickler.file_handle.write(chunk.tostring('C'))\n",
            "/usr/local/lib/python3.7/dist-packages/sklearn/externals/joblib/numpy_pickle.py:104: DeprecationWarning: tostring() is deprecated. Use tobytes() instead.\n",
            "  pickler.file_handle.write(chunk.tostring('C'))\n",
            "/usr/local/lib/python3.7/dist-packages/sklearn/externals/joblib/numpy_pickle.py:104: DeprecationWarning: tostring() is deprecated. Use tobytes() instead.\n",
            "  pickler.file_handle.write(chunk.tostring('C'))\n",
            "/usr/local/lib/python3.7/dist-packages/sklearn/externals/joblib/numpy_pickle.py:104: DeprecationWarning: tostring() is deprecated. Use tobytes() instead.\n",
            "  pickler.file_handle.write(chunk.tostring('C'))\n",
            "/usr/local/lib/python3.7/dist-packages/sklearn/externals/joblib/numpy_pickle.py:104: DeprecationWarning: tostring() is deprecated. Use tobytes() instead.\n",
            "  pickler.file_handle.write(chunk.tostring('C'))\n",
            "/usr/local/lib/python3.7/dist-packages/sklearn/externals/joblib/numpy_pickle.py:104: DeprecationWarning: tostring() is deprecated. Use tobytes() instead.\n",
            "  pickler.file_handle.write(chunk.tostring('C'))\n",
            "/usr/local/lib/python3.7/dist-packages/sklearn/externals/joblib/numpy_pickle.py:104: DeprecationWarning: tostring() is deprecated. Use tobytes() instead.\n",
            "  pickler.file_handle.write(chunk.tostring('C'))\n",
            "/usr/local/lib/python3.7/dist-packages/sklearn/externals/joblib/numpy_pickle.py:104: DeprecationWarning: tostring() is deprecated. Use tobytes() instead.\n",
            "  pickler.file_handle.write(chunk.tostring('C'))\n",
            "/usr/local/lib/python3.7/dist-packages/sklearn/externals/joblib/numpy_pickle.py:104: DeprecationWarning: tostring() is deprecated. Use tobytes() instead.\n",
            "  pickler.file_handle.write(chunk.tostring('C'))\n",
            "/usr/local/lib/python3.7/dist-packages/sklearn/externals/joblib/numpy_pickle.py:104: DeprecationWarning: tostring() is deprecated. Use tobytes() instead.\n",
            "  pickler.file_handle.write(chunk.tostring('C'))\n",
            "/usr/local/lib/python3.7/dist-packages/sklearn/externals/joblib/numpy_pickle.py:104: DeprecationWarning: tostring() is deprecated. Use tobytes() instead.\n",
            "  pickler.file_handle.write(chunk.tostring('C'))\n",
            "/usr/local/lib/python3.7/dist-packages/sklearn/externals/joblib/numpy_pickle.py:104: DeprecationWarning: tostring() is deprecated. Use tobytes() instead.\n",
            "  pickler.file_handle.write(chunk.tostring('C'))\n",
            "/usr/local/lib/python3.7/dist-packages/sklearn/externals/joblib/numpy_pickle.py:104: DeprecationWarning: tostring() is deprecated. Use tobytes() instead.\n",
            "  pickler.file_handle.write(chunk.tostring('C'))\n",
            "/usr/local/lib/python3.7/dist-packages/sklearn/externals/joblib/numpy_pickle.py:104: DeprecationWarning: tostring() is deprecated. Use tobytes() instead.\n",
            "  pickler.file_handle.write(chunk.tostring('C'))\n",
            "/usr/local/lib/python3.7/dist-packages/sklearn/externals/joblib/numpy_pickle.py:104: DeprecationWarning: tostring() is deprecated. Use tobytes() instead.\n",
            "  pickler.file_handle.write(chunk.tostring('C'))\n",
            "/usr/local/lib/python3.7/dist-packages/sklearn/externals/joblib/numpy_pickle.py:104: DeprecationWarning: tostring() is deprecated. Use tobytes() instead.\n",
            "  pickler.file_handle.write(chunk.tostring('C'))\n",
            "/usr/local/lib/python3.7/dist-packages/sklearn/externals/joblib/numpy_pickle.py:104: DeprecationWarning: tostring() is deprecated. Use tobytes() instead.\n",
            "  pickler.file_handle.write(chunk.tostring('C'))\n",
            "/usr/local/lib/python3.7/dist-packages/sklearn/externals/joblib/numpy_pickle.py:104: DeprecationWarning: tostring() is deprecated. Use tobytes() instead.\n",
            "  pickler.file_handle.write(chunk.tostring('C'))\n",
            "/usr/local/lib/python3.7/dist-packages/sklearn/externals/joblib/numpy_pickle.py:104: DeprecationWarning: tostring() is deprecated. Use tobytes() instead.\n",
            "  pickler.file_handle.write(chunk.tostring('C'))\n",
            "/usr/local/lib/python3.7/dist-packages/sklearn/externals/joblib/numpy_pickle.py:104: DeprecationWarning: tostring() is deprecated. Use tobytes() instead.\n",
            "  pickler.file_handle.write(chunk.tostring('C'))\n",
            "/usr/local/lib/python3.7/dist-packages/sklearn/externals/joblib/numpy_pickle.py:104: DeprecationWarning: tostring() is deprecated. Use tobytes() instead.\n",
            "  pickler.file_handle.write(chunk.tostring('C'))\n",
            "/usr/local/lib/python3.7/dist-packages/sklearn/externals/joblib/numpy_pickle.py:104: DeprecationWarning: tostring() is deprecated. Use tobytes() instead.\n",
            "  pickler.file_handle.write(chunk.tostring('C'))\n",
            "/usr/local/lib/python3.7/dist-packages/sklearn/externals/joblib/numpy_pickle.py:104: DeprecationWarning: tostring() is deprecated. Use tobytes() instead.\n",
            "  pickler.file_handle.write(chunk.tostring('C'))\n",
            "/usr/local/lib/python3.7/dist-packages/sklearn/externals/joblib/numpy_pickle.py:104: DeprecationWarning: tostring() is deprecated. Use tobytes() instead.\n",
            "  pickler.file_handle.write(chunk.tostring('C'))\n",
            "/usr/local/lib/python3.7/dist-packages/sklearn/externals/joblib/numpy_pickle.py:104: DeprecationWarning: tostring() is deprecated. Use tobytes() instead.\n",
            "  pickler.file_handle.write(chunk.tostring('C'))\n",
            "/usr/local/lib/python3.7/dist-packages/sklearn/externals/joblib/numpy_pickle.py:104: DeprecationWarning: tostring() is deprecated. Use tobytes() instead.\n",
            "  pickler.file_handle.write(chunk.tostring('C'))\n",
            "/usr/local/lib/python3.7/dist-packages/sklearn/externals/joblib/numpy_pickle.py:104: DeprecationWarning: tostring() is deprecated. Use tobytes() instead.\n",
            "  pickler.file_handle.write(chunk.tostring('C'))\n",
            "/usr/local/lib/python3.7/dist-packages/sklearn/externals/joblib/numpy_pickle.py:104: DeprecationWarning: tostring() is deprecated. Use tobytes() instead.\n",
            "  pickler.file_handle.write(chunk.tostring('C'))\n",
            "/usr/local/lib/python3.7/dist-packages/sklearn/externals/joblib/numpy_pickle.py:104: DeprecationWarning: tostring() is deprecated. Use tobytes() instead.\n",
            "  pickler.file_handle.write(chunk.tostring('C'))\n",
            "/usr/local/lib/python3.7/dist-packages/sklearn/externals/joblib/numpy_pickle.py:104: DeprecationWarning: tostring() is deprecated. Use tobytes() instead.\n",
            "  pickler.file_handle.write(chunk.tostring('C'))\n",
            "/usr/local/lib/python3.7/dist-packages/sklearn/externals/joblib/numpy_pickle.py:104: DeprecationWarning: tostring() is deprecated. Use tobytes() instead.\n",
            "  pickler.file_handle.write(chunk.tostring('C'))\n",
            "/usr/local/lib/python3.7/dist-packages/sklearn/externals/joblib/numpy_pickle.py:104: DeprecationWarning: tostring() is deprecated. Use tobytes() instead.\n",
            "  pickler.file_handle.write(chunk.tostring('C'))\n",
            "/usr/local/lib/python3.7/dist-packages/sklearn/externals/joblib/numpy_pickle.py:104: DeprecationWarning: tostring() is deprecated. Use tobytes() instead.\n",
            "  pickler.file_handle.write(chunk.tostring('C'))\n",
            "/usr/local/lib/python3.7/dist-packages/sklearn/externals/joblib/numpy_pickle.py:104: DeprecationWarning: tostring() is deprecated. Use tobytes() instead.\n",
            "  pickler.file_handle.write(chunk.tostring('C'))\n",
            "/usr/local/lib/python3.7/dist-packages/sklearn/externals/joblib/numpy_pickle.py:104: DeprecationWarning: tostring() is deprecated. Use tobytes() instead.\n",
            "  pickler.file_handle.write(chunk.tostring('C'))\n",
            "/usr/local/lib/python3.7/dist-packages/sklearn/externals/joblib/numpy_pickle.py:104: DeprecationWarning: tostring() is deprecated. Use tobytes() instead.\n",
            "  pickler.file_handle.write(chunk.tostring('C'))\n"
          ]
        },
        {
          "output_type": "execute_result",
          "data": {
            "text/plain": [
              "['RFModelforMPG.pkl']"
            ]
          },
          "metadata": {},
          "execution_count": 29
        }
      ]
    },
    {
      "cell_type": "code",
      "source": [
        "modelReload=joblib.load('RFModelforMPG.pkl')"
      ],
      "metadata": {
        "id": "fDp6-HJJQ9nv"
      },
      "execution_count": 30,
      "outputs": []
    },
    {
      "cell_type": "code",
      "source": [
        "modelReload.predict(data[X])"
      ],
      "metadata": {
        "colab": {
          "base_uri": "https://localhost:8080/"
        },
        "id": "Yr_D1AhwRDah",
        "outputId": "c34779ae-c44b-4199-d343-ff2f38b0a835"
      },
      "execution_count": 31,
      "outputs": [
        {
          "output_type": "stream",
          "name": "stderr",
          "text": [
            "/usr/local/lib/python3.7/dist-packages/sklearn/preprocessing/_encoders.py:505: DeprecationWarning: `np.int` is a deprecated alias for the builtin `int`. To silence this warning, use `int` by itself. Doing this will not modify any behavior and is safe. When replacing `np.int`, you may wish to use e.g. `np.int64` or `np.int32` to specify the precision. If you wish to review your current use, check the release note link for additional information.\n",
            "Deprecated in NumPy 1.20; for more details and guidance: https://numpy.org/devdocs/release/1.20.0-notes.html#deprecations\n",
            "  X = check_array(X, dtype=np.int)\n",
            "/usr/local/lib/python3.7/dist-packages/sklearn/ensemble/base.py:158: DeprecationWarning: `np.int` is a deprecated alias for the builtin `int`. To silence this warning, use `int` by itself. Doing this will not modify any behavior and is safe. When replacing `np.int`, you may wish to use e.g. `np.int64` or `np.int32` to specify the precision. If you wish to review your current use, check the release note link for additional information.\n",
            "Deprecated in NumPy 1.20; for more details and guidance: https://numpy.org/devdocs/release/1.20.0-notes.html#deprecations\n",
            "  dtype=np.int)\n"
          ]
        },
        {
          "output_type": "execute_result",
          "data": {
            "text/plain": [
              "array([18.87, 14.8 , 16.8 , 16.  , 16.4 , 14.  , 13.8 , 14.  , 13.2 ,\n",
              "       14.4 , 15.  , 14.3 , 15.  , 15.1 , 23.7 , 21.1 , 19.1 , 21.4 ,\n",
              "       27.  , 26.8 , 23.9 , 24.6 , 24.5 , 25.3 , 20.72, 11.1 , 11.  ,\n",
              "       11.1 ,  9.5 , 27.  , 25.9 , 24.4 , 25.5 , 18.8 , 16.8 , 17.4 ,\n",
              "       18.5 , 18.5 , 14.  , 13.3 , 14.3 , 14.  , 12.1 , 12.9 , 12.6 ,\n",
              "       18.  , 22.5 , 19.  , 18.2 , 22.65, 27.35, 28.3 , 28.5 , 31.3 ,\n",
              "       33.7 , 27.5 , 26.7 , 23.4 , 25.8 , 25.71, 20.1 , 21.8 , 13.7 ,\n",
              "       13.3 , 14.3 , 14.2 , 14.6 , 12.  , 12.7 , 12.6 , 13.1 , 20.12,\n",
              "       14.4 , 13.4 , 13.4 , 14.1 , 19.61, 23.1 , 20.6 , 25.8 , 21.9 ,\n",
              "       25.9 , 22.79, 27.9 , 26.2 , 12.9 , 14.  , 13.6 , 14.62, 14.7 ,\n",
              "       12.  , 13.2 , 12.7 , 13.8 , 13.1 , 12.6 , 13.6 , 18.2 , 16.9 ,\n",
              "       18.2 , 17.8 , 22.3 , 26.6 , 11.7 , 12.1 , 12.4 , 12.5 , 18.4 ,\n",
              "       21.3 , 22.  , 23.9 , 20.7 , 20.42, 21.3 , 26.  , 14.5 , 15.4 ,\n",
              "       28.7 , 25.7 , 22.15, 20.82, 15.6 , 22.55, 20.76, 12.4 , 19.8 ,\n",
              "       20.53, 18.9 , 15.4 , 31.  , 25.1 , 31.7 , 24.4 , 15.7 , 15.8 ,\n",
              "       17.4 , 15.8 , 13.6 , 14.1 , 14.1 , 14.6 , 28.2 , 28.7 , 25.72,\n",
              "       31.1 , 31.4 , 26.2 , 24.9 , 25.5 , 23.9 , 25.4 , 29.9 , 19.75,\n",
              "       17.9 , 16.59, 16.15, 15.75, 14.8 , 15.  , 14.5 , 17.2 , 16.25,\n",
              "       15.95, 18.  , 20.4 , 18.95, 15.77, 28.8 , 23.7 , 19.5 , 23.8 ,\n",
              "       24.25, 26.1 , 23.9 , 18.9 , 29.2 , 19.29, 23.3 , 22.  , 21.26,\n",
              "       23.95, 31.7 , 27.2 , 25.3 , 25.45, 26.7 , 27.2 , 16.5 , 15.4 ,\n",
              "       17.47, 14.95, 20.9 , 20.9 , 22.05, 20.08, 30.41, 27.31, 29.  ,\n",
              "       31.7 , 19.45, 18.29, 18.2 , 18.7 , 29.1 , 32.1 , 28.1 , 26.65,\n",
              "       20.11, 13.55, 19.8 , 19.93, 16.9 , 15.25, 13.5 , 14.12, 13.55,\n",
              "       31.38, 29.2 , 34.91, 26.31, 33.21, 16.57, 17.4 , 15.9 , 15.1 ,\n",
              "       17.65, 20.  , 19.16, 18.05, 15.85, 15.9 , 15.84, 15.75, 29.75,\n",
              "       24.15, 27.9 , 25.3 , 30.86, 32.6 , 30.76, 29.4 , 21.8 , 22.1 ,\n",
              "       21.3 , 40.63, 34.78, 34.81, 37.26, 35.27, 18.95, 19.  , 19.93,\n",
              "       19.03, 19.95, 20.4 , 25.06, 20.15, 19.54, 20.07, 20.18, 18.9 ,\n",
              "       18.45, 18.88, 17.85, 20.3 , 16.8 , 29.9 , 26.35, 26.26, 31.47,\n",
              "       23.54, 23.18, 23.72, 24.02, 20.69, 18.28, 21.24, 17.28, 31.73,\n",
              "       29.4 , 21.28, 22.7 , 23.53, 20.16, 20.27, 17.16, 17.92, 17.58,\n",
              "       17.96, 16.58, 15.89, 19.39, 17.89, 34.35, 35.25, 34.49, 28.13,\n",
              "       24.13, 21.1 , 27.58, 22.61, 35.04, 35.07, 33.77, 37.91, 28.49,\n",
              "       28.65, 26.86, 31.12, 38.08, 37.72, 33.52, 37.57, 27.6 , 25.33,\n",
              "       26.18, 19.83, 33.15, 29.68, 31.92, 34.25, 32.24, 40.96, 27.72,\n",
              "       38.68, 43.45, 42.2 , 33.32, 29.25, 40.98, 39.13, 34.55, 32.79,\n",
              "       25.7 , 27.16, 33.22, 24.88, 32.5 , 29.88, 26.84, 26.96, 23.96,\n",
              "       33.35, 37.48, 37.63, 34.96, 33.23, 37.56, 37.53, 34.19, 34.02,\n",
              "       35.39, 31.77, 33.74, 35.37, 33.43, 32.43, 31.53, 31.19, 27.1 ,\n",
              "       29.32, 25.24, 25.19, 22.02, 25.52, 21.16, 21.82, 29.04, 27.06,\n",
              "       33.29, 29.8 , 30.2 , 27.  , 24.16, 23.11, 36.62, 36.7 , 32.31,\n",
              "       38.04, 36.4 , 35.47, 35.01, 34.99, 36.41, 33.14, 36.52, 24.24,\n",
              "       30.37, 27.08, 24.19, 29.28, 34.55, 25.53, 27.28, 41.27, 32.35,\n",
              "       28.19, 30.6 ])"
            ]
          },
          "metadata": {},
          "execution_count": 31
        }
      ]
    },
    {
      "cell_type": "code",
      "source": [
        "temp={}\n",
        "temp['cylinders']=1\n",
        "temp['displacement']=2\n",
        "temp['horsepower']=3\n",
        "temp['weight']=4\n",
        "temp['acceleration']=5\n",
        "temp['model year']=6\n",
        "temp['origin']=1"
      ],
      "metadata": {
        "id": "a0vyXD7_RGQe"
      },
      "execution_count": 32,
      "outputs": []
    },
    {
      "cell_type": "code",
      "source": [
        "testData=pd.DataFrame({'x':temp}).transpose()"
      ],
      "metadata": {
        "id": "TOOGKPJ0RLli"
      },
      "execution_count": 34,
      "outputs": []
    },
    {
      "cell_type": "code",
      "source": [
        "testData"
      ],
      "metadata": {
        "colab": {
          "base_uri": "https://localhost:8080/",
          "height": 81
        },
        "id": "FqaNCds5ROgL",
        "outputId": "0aba626c-33bf-4adb-f1e7-010b77635537"
      },
      "execution_count": 35,
      "outputs": [
        {
          "output_type": "execute_result",
          "data": {
            "text/plain": [
              "   acceleration  cylinders  displacement  horsepower  model year  origin  \\\n",
              "x             5          1             2           3           6       1   \n",
              "\n",
              "   weight  \n",
              "x       4  "
            ],
            "text/html": [
              "\n",
              "  <div id=\"df-32eca780-2737-4d32-9ce2-d977221f218e\">\n",
              "    <div class=\"colab-df-container\">\n",
              "      <div>\n",
              "<style scoped>\n",
              "    .dataframe tbody tr th:only-of-type {\n",
              "        vertical-align: middle;\n",
              "    }\n",
              "\n",
              "    .dataframe tbody tr th {\n",
              "        vertical-align: top;\n",
              "    }\n",
              "\n",
              "    .dataframe thead th {\n",
              "        text-align: right;\n",
              "    }\n",
              "</style>\n",
              "<table border=\"1\" class=\"dataframe\">\n",
              "  <thead>\n",
              "    <tr style=\"text-align: right;\">\n",
              "      <th></th>\n",
              "      <th>acceleration</th>\n",
              "      <th>cylinders</th>\n",
              "      <th>displacement</th>\n",
              "      <th>horsepower</th>\n",
              "      <th>model year</th>\n",
              "      <th>origin</th>\n",
              "      <th>weight</th>\n",
              "    </tr>\n",
              "  </thead>\n",
              "  <tbody>\n",
              "    <tr>\n",
              "      <th>x</th>\n",
              "      <td>5</td>\n",
              "      <td>1</td>\n",
              "      <td>2</td>\n",
              "      <td>3</td>\n",
              "      <td>6</td>\n",
              "      <td>1</td>\n",
              "      <td>4</td>\n",
              "    </tr>\n",
              "  </tbody>\n",
              "</table>\n",
              "</div>\n",
              "      <button class=\"colab-df-convert\" onclick=\"convertToInteractive('df-32eca780-2737-4d32-9ce2-d977221f218e')\"\n",
              "              title=\"Convert this dataframe to an interactive table.\"\n",
              "              style=\"display:none;\">\n",
              "        \n",
              "  <svg xmlns=\"http://www.w3.org/2000/svg\" height=\"24px\"viewBox=\"0 0 24 24\"\n",
              "       width=\"24px\">\n",
              "    <path d=\"M0 0h24v24H0V0z\" fill=\"none\"/>\n",
              "    <path d=\"M18.56 5.44l.94 2.06.94-2.06 2.06-.94-2.06-.94-.94-2.06-.94 2.06-2.06.94zm-11 1L8.5 8.5l.94-2.06 2.06-.94-2.06-.94L8.5 2.5l-.94 2.06-2.06.94zm10 10l.94 2.06.94-2.06 2.06-.94-2.06-.94-.94-2.06-.94 2.06-2.06.94z\"/><path d=\"M17.41 7.96l-1.37-1.37c-.4-.4-.92-.59-1.43-.59-.52 0-1.04.2-1.43.59L10.3 9.45l-7.72 7.72c-.78.78-.78 2.05 0 2.83L4 21.41c.39.39.9.59 1.41.59.51 0 1.02-.2 1.41-.59l7.78-7.78 2.81-2.81c.8-.78.8-2.07 0-2.86zM5.41 20L4 18.59l7.72-7.72 1.47 1.35L5.41 20z\"/>\n",
              "  </svg>\n",
              "      </button>\n",
              "      \n",
              "  <style>\n",
              "    .colab-df-container {\n",
              "      display:flex;\n",
              "      flex-wrap:wrap;\n",
              "      gap: 12px;\n",
              "    }\n",
              "\n",
              "    .colab-df-convert {\n",
              "      background-color: #E8F0FE;\n",
              "      border: none;\n",
              "      border-radius: 50%;\n",
              "      cursor: pointer;\n",
              "      display: none;\n",
              "      fill: #1967D2;\n",
              "      height: 32px;\n",
              "      padding: 0 0 0 0;\n",
              "      width: 32px;\n",
              "    }\n",
              "\n",
              "    .colab-df-convert:hover {\n",
              "      background-color: #E2EBFA;\n",
              "      box-shadow: 0px 1px 2px rgba(60, 64, 67, 0.3), 0px 1px 3px 1px rgba(60, 64, 67, 0.15);\n",
              "      fill: #174EA6;\n",
              "    }\n",
              "\n",
              "    [theme=dark] .colab-df-convert {\n",
              "      background-color: #3B4455;\n",
              "      fill: #D2E3FC;\n",
              "    }\n",
              "\n",
              "    [theme=dark] .colab-df-convert:hover {\n",
              "      background-color: #434B5C;\n",
              "      box-shadow: 0px 1px 3px 1px rgba(0, 0, 0, 0.15);\n",
              "      filter: drop-shadow(0px 1px 2px rgba(0, 0, 0, 0.3));\n",
              "      fill: #FFFFFF;\n",
              "    }\n",
              "  </style>\n",
              "\n",
              "      <script>\n",
              "        const buttonEl =\n",
              "          document.querySelector('#df-32eca780-2737-4d32-9ce2-d977221f218e button.colab-df-convert');\n",
              "        buttonEl.style.display =\n",
              "          google.colab.kernel.accessAllowed ? 'block' : 'none';\n",
              "\n",
              "        async function convertToInteractive(key) {\n",
              "          const element = document.querySelector('#df-32eca780-2737-4d32-9ce2-d977221f218e');\n",
              "          const dataTable =\n",
              "            await google.colab.kernel.invokeFunction('convertToInteractive',\n",
              "                                                     [key], {});\n",
              "          if (!dataTable) return;\n",
              "\n",
              "          const docLinkHtml = 'Like what you see? Visit the ' +\n",
              "            '<a target=\"_blank\" href=https://colab.research.google.com/notebooks/data_table.ipynb>data table notebook</a>'\n",
              "            + ' to learn more about interactive tables.';\n",
              "          element.innerHTML = '';\n",
              "          dataTable['output_type'] = 'display_data';\n",
              "          await google.colab.output.renderOutput(dataTable, element);\n",
              "          const docLink = document.createElement('div');\n",
              "          docLink.innerHTML = docLinkHtml;\n",
              "          element.appendChild(docLink);\n",
              "        }\n",
              "      </script>\n",
              "    </div>\n",
              "  </div>\n",
              "  "
            ]
          },
          "metadata": {},
          "execution_count": 35
        }
      ]
    },
    {
      "cell_type": "code",
      "source": [
        "modelReload.predict(testDtaa)[0]"
      ],
      "metadata": {
        "colab": {
          "base_uri": "https://localhost:8080/"
        },
        "id": "kjde_ETPRXJo",
        "outputId": "cf014883-4514-4e9d-f897-76f946b11f2f"
      },
      "execution_count": 36,
      "outputs": [
        {
          "output_type": "stream",
          "name": "stderr",
          "text": [
            "/usr/local/lib/python3.7/dist-packages/sklearn/utils/validation.py:590: DataConversionWarning: Data with input dtype int64 was converted to float64 by StandardScaler.\n",
            "  warnings.warn(msg, DataConversionWarning)\n",
            "/usr/local/lib/python3.7/dist-packages/sklearn/preprocessing/_encoders.py:505: DeprecationWarning: `np.int` is a deprecated alias for the builtin `int`. To silence this warning, use `int` by itself. Doing this will not modify any behavior and is safe. When replacing `np.int`, you may wish to use e.g. `np.int64` or `np.int32` to specify the precision. If you wish to review your current use, check the release note link for additional information.\n",
            "Deprecated in NumPy 1.20; for more details and guidance: https://numpy.org/devdocs/release/1.20.0-notes.html#deprecations\n",
            "  X = check_array(X, dtype=np.int)\n",
            "/usr/local/lib/python3.7/dist-packages/sklearn/ensemble/base.py:158: DeprecationWarning: `np.int` is a deprecated alias for the builtin `int`. To silence this warning, use `int` by itself. Doing this will not modify any behavior and is safe. When replacing `np.int`, you may wish to use e.g. `np.int64` or `np.int32` to specify the precision. If you wish to review your current use, check the release note link for additional information.\n",
            "Deprecated in NumPy 1.20; for more details and guidance: https://numpy.org/devdocs/release/1.20.0-notes.html#deprecations\n",
            "  dtype=np.int)\n"
          ]
        },
        {
          "output_type": "execute_result",
          "data": {
            "text/plain": [
              "28.9"
            ]
          },
          "metadata": {},
          "execution_count": 36
        }
      ]
    },
    {
      "cell_type": "code",
      "source": [
        ""
      ],
      "metadata": {
        "id": "u91bgB0ARbsG"
      },
      "execution_count": null,
      "outputs": []
    }
  ]
}